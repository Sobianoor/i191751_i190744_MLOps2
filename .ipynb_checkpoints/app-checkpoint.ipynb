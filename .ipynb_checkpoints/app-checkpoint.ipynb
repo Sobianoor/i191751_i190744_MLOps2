{
 "cells": [
  {
   "cell_type": "code",
   "execution_count": 20,
   "id": "6ea5cabc",
   "metadata": {},
   "outputs": [],
   "source": [
    "from flask import Flask, render_template, request\n",
    "import pickle\n",
    "from sklearn import preprocessing\n",
    "import yfinance as yf\n",
    "from datetime import datetime, timedelta\n",
    "import numpy as np\n",
    "import math\n",
    "import pandas as pd\n",
    "app = Flask(__name__)"
   ]
  },
  {
   "cell_type": "code",
   "execution_count": 25,
   "id": "2a4e9981",
   "metadata": {},
   "outputs": [],
   "source": [
    "def RMSE(l1, l2):\n",
    "    l1 = [1,2,3,4,5]\n",
    "    l2 = [1.6,2.5,2.9,3,4.1]\n",
    "\n",
    "    MSE = np.square(np.subtract(l1,l2)).mean() \n",
    "\n",
    "    RMSE = math.sqrt(MSE)\n",
    "    \n",
    "    return RMSE"
   ]
  },
  {
   "cell_type": "code",
   "execution_count": 21,
   "id": "01edc5e5",
   "metadata": {},
   "outputs": [],
   "source": [
    "def get_live_data(sd, ed):\n",
    "    df = yf.download(\"AAPL\", start = sd, end=ed)\n",
    "    df = df.reset_index().rename(columns={'date': 'new_column'})\n",
    "    df.drop(columns = ['Open', 'High', 'Low', 'Adj Close', 'Volume'], axis = 1, inplace = True)\n",
    "    df.dropna(inplace = True)\n",
    "    df['Date'] = pd.to_datetime(df['Date'])\n",
    "\n",
    "    # Extract year, month, day, and weekday features from the Date column\n",
    "    df['Year'] = df['Date'].dt.year\n",
    "    df['Month'] = df['Date'].dt.month\n",
    "    df['Day'] = df['Date'].dt.day\n",
    "    df['Weekday'] = df['Date'].dt.weekday\n",
    "\n",
    "    # Weekday is represented as an integer, so you can convert it to a string if needed\n",
    "    df['Weekday'] = df['Weekday'].apply(lambda x: pd.Timestamp(2022, 1, x+1).strftime(\"%A\"))\n",
    "    # Import label encoder\n",
    "  \n",
    "    # label_encoder object knows how to understand word labels.\n",
    "    label_encoder = preprocessing.LabelEncoder()\n",
    "\n",
    "    # Encode labels in column 'species'.\n",
    "    df['Weekday']= label_encoder.fit_transform(df['Weekday'])\n",
    "\n",
    "    df.drop(columns = ['Date'], axis = 1, inplace = True)\n",
    "    \n",
    "    return df"
   ]
  },
  {
   "cell_type": "code",
   "execution_count": 18,
   "id": "ba5b5642",
   "metadata": {},
   "outputs": [],
   "source": [
    "    \n",
    "# Load the pickled model from file\n",
    "with open('model.pkl', 'rb') as f:\n",
    "    model = pickle.load(f)"
   ]
  },
  {
   "cell_type": "code",
   "execution_count": 26,
   "id": "b5192f43",
   "metadata": {},
   "outputs": [],
   "source": [
    "@app.route('/')\n",
    "def dashboard():\n",
    "    start_date = '2016-01-01'\n",
    "    end_date = datetime.today().strftime(\"%Y-%m-%d\")\n",
    "    # get live data\n",
    "    data = get_live_data(start_date, end_date)\n",
    "    #print(data)\n",
    "    data = data.drop(columns = ['Close'], axis = 1)\n",
    "    # make predictions using the model\n",
    "    pred = model.predict(data)\n",
    "    # calculate accuracy\n",
    "    RMSE = RMSE(list(data['Close']), pred)\n",
    "    # render the dashboard template with the results\n",
    "    # , data=data, pred=pred, acc=acc\n",
    "    return render_template('dashboard.html', data=data, pred=pred, acc=RMSE)"
   ]
  },
  {
   "cell_type": "code",
   "execution_count": null,
   "id": "89941e46",
   "metadata": {},
   "outputs": [],
   "source": [
    "if __name__ == '__main__':\n",
    "    app.run(debug=False, use_reloader=False)\n",
    "\n",
    "   # app.run(debug=True)\n"
   ]
  }
 ],
 "metadata": {
  "kernelspec": {
   "display_name": "Python 3",
   "language": "python",
   "name": "python3"
  },
  "language_info": {
   "codemirror_mode": {
    "name": "ipython",
    "version": 3
   },
   "file_extension": ".py",
   "mimetype": "text/x-python",
   "name": "python",
   "nbconvert_exporter": "python",
   "pygments_lexer": "ipython3",
   "version": "3.8.8"
  }
 },
 "nbformat": 4,
 "nbformat_minor": 5
}
